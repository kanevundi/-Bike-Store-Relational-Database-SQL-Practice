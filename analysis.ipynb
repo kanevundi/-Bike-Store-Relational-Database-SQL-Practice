{
 "cells": [
  {
   "cell_type": "markdown",
   "metadata": {},
   "source": []
  },
  {
   "cell_type": "markdown",
   "metadata": {},
   "source": []
  },
  {
   "cell_type": "markdown",
   "metadata": {},
   "source": []
  },
  {
   "cell_type": "code",
   "execution_count": 1,
   "metadata": {},
   "outputs": [
    {
     "name": "stderr",
     "output_type": "stream",
     "text": [
      "Matplotlib is building the font cache; this may take a moment.\n"
     ]
    }
   ],
   "source": [
    "import pandas as pd\n",
    "import sqlite3\n",
    "import matplotlib.pyplot as plt\n",
    "import seaborn as sns\n",
    "sns.set()"
   ]
  },
  {
   "cell_type": "code",
   "execution_count": 3,
   "metadata": {},
   "outputs": [],
   "source": [
    "brands = pd.read_csv(r'E:\\Shamiri\\myrepos\\-Bike-Store-Relational-Database-SQL-Practice\\data\\brands.csv')\n",
    "categories = pd.read_csv(r'E:\\Shamiri\\myrepos\\-Bike-Store-Relational-Database-SQL-Practice\\data\\categories.csv')\n",
    "customers = pd.read_csv(r'E:\\Shamiri\\myrepos\\-Bike-Store-Relational-Database-SQL-Practice\\data\\customers.csv')\n",
    "order_items = pd.read_csv(r'E:\\Shamiri\\myrepos\\-Bike-Store-Relational-Database-SQL-Practice\\data\\order_items.csv')\n",
    "orders = pd.read_csv(r'E:\\Shamiri\\myrepos\\-Bike-Store-Relational-Database-SQL-Practice\\data\\orders.csv')\n",
    "products = pd.read_csv(r'E:\\Shamiri\\myrepos\\-Bike-Store-Relational-Database-SQL-Practice\\data\\products.csv')\n",
    "staffs = pd.read_csv(r'E:\\Shamiri\\myrepos\\-Bike-Store-Relational-Database-SQL-Practice\\data\\staffs.csv')\n",
    "stocks = pd.read_csv(r'E:\\Shamiri\\myrepos\\-Bike-Store-Relational-Database-SQL-Practice\\data\\stocks.csv')\n",
    "stores = pd.read_csv(r'E:\\Shamiri\\myrepos\\-Bike-Store-Relational-Database-SQL-Practice\\data\\stores.csv')"
   ]
  }
 ],
 "metadata": {
  "kernelspec": {
   "display_name": "base",
   "language": "python",
   "name": "python3"
  },
  "language_info": {
   "codemirror_mode": {
    "name": "ipython",
    "version": 3
   },
   "file_extension": ".py",
   "mimetype": "text/x-python",
   "name": "python",
   "nbconvert_exporter": "python",
   "pygments_lexer": "ipython3",
   "version": "3.11.5"
  }
 },
 "nbformat": 4,
 "nbformat_minor": 2
}
